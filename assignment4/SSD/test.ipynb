{
 "cells": [
  {
   "cell_type": "code",
   "execution_count": 1,
   "metadata": {},
   "outputs": [],
   "source": [
    "%load_ext autoreload"
   ]
  },
  {
   "cell_type": "code",
   "execution_count": 2,
   "metadata": {},
   "outputs": [],
   "source": [
    "%autoreload \n",
    "import logging\n",
    "from ssd.config.defaults import cfg\n",
    "from ssd.utils.logger import setup_logger\n",
    "from test import evaluation"
   ]
  },
  {
   "cell_type": "code",
   "execution_count": 3,
   "metadata": {},
   "outputs": [
    {
     "name": "stdout",
     "output_type": "stream",
     "text": [
      "2021-04-07 17:48:49,065 SSD INFO: Loaded configuration file configs/cfg_rdd2020.yaml\n",
      "2021-04-07 17:48:49,068 SSD INFO: \n",
      "MODEL:\n",
      "    NUM_CLASSES: 5\n",
      "    BACKBONE:\n",
      "        NAME: 'resnet'\n",
      "        OUT_CHANNELS: [128, 256, 512, 128, 64, 64]\n",
      "    PRIORS:\n",
      "        MIN_SIZES: [[11, 11], [60, 60], [111, 111], [162, 162], [213, 213], [264, 264]]\n",
      "INPUT:\n",
      "    PIXEL_STD: [0.003921569, 0.003921569, 0.003921569] # Set pixel std to 1/255 as VGG is pre-trained on images in range (roughly) [-127.5, 127.5]\n",
      "    IMAGE_SIZE: [300, 300]\n",
      "DATASETS:\n",
      "#    TRAIN: (\"mnist_detection_train\", \"mnist_detection_val\")\n",
      "#    TEST: (\"mnist_detection_val\", )\n",
      "    TRAIN: (\"rdd2020_train\",)\n",
      "    TEST: (\"rdd2020_val\", )\n",
      "SOLVER:\n",
      "    MAX_ITER: 100000\n",
      "    GAMMA: 0.1\n",
      "    BATCH_SIZE: 16\n",
      "    LR: 1e-4\n",
      "    WEIGHT_DECAY: 1e-4\n",
      "    OPTIM: \"Adam\"\n",
      "OUTPUT_DIR: 'outputs/resnet_unfrozen'\n",
      "DATASET_DIR: \"/work/datasets\"\n",
      "EVAL_STEP: 5000\n",
      "MODEL_SAVE_STEP: 5000\n",
      "2021-04-07 17:48:49,069 SSD INFO: Running with config:\n",
      "DATASETS:\n",
      "  TEST: ('rdd2020_val',)\n",
      "  TRAIN: ('rdd2020_train',)\n",
      "DATASET_DIR: /work/datasets\n",
      "DATA_LOADER:\n",
      "  NUM_WORKERS: 4\n",
      "  PIN_MEMORY: True\n",
      "EVAL_STEP: 5000\n",
      "INPUT:\n",
      "  IMAGE_SIZE: [300, 300]\n",
      "  PIXEL_MEAN: [123.675, 116.28, 103.53]\n",
      "  PIXEL_STD: [0.003921569, 0.003921569, 0.003921569]\n",
      "LOG_STEP: 10\n",
      "MODEL:\n",
      "  BACKBONE:\n",
      "    INPUT_CHANNELS: 3\n",
      "    NAME: resnet\n",
      "    OUT_CHANNELS: (128, 256, 512, 128, 64, 64)\n",
      "    PRETRAINED: True\n",
      "  CENTER_VARIANCE: 0.1\n",
      "  NEG_POS_RATIO: 3\n",
      "  NUM_CLASSES: 5\n",
      "  PRIORS:\n",
      "    ASPECT_RATIOS: [[2], [2, 3], [2, 3], [2, 3], [2], [2]]\n",
      "    BOXES_PER_LOCATION: [4, 6, 6, 6, 4, 4]\n",
      "    CLIP: True\n",
      "    FEATURE_MAPS: [[38, 38], [19, 19], [10, 10], [5, 5], [3, 3], [1, 1]]\n",
      "    MAX_SIZES: [[60, 60], [111, 111], [162, 162], [213, 213], [264, 264], [315, 315]]\n",
      "    MIN_SIZES: [[11, 11], [60, 60], [111, 111], [162, 162], [213, 213], [264, 264]]\n",
      "    STRIDES: [[8, 8], [16, 16], [32, 32], [64, 64], [100, 100], [300, 300]]\n",
      "  SIZE_VARIANCE: 0.2\n",
      "  THRESHOLD: 0.5\n",
      "MODEL_SAVE_STEP: 5000\n",
      "OUTPUT_DIR: outputs/resnet_unfrozen\n",
      "SOLVER:\n",
      "  BATCH_SIZE: 16\n",
      "  GAMMA: 0.1\n",
      "  LR: 0.0001\n",
      "  MAX_ITER: 100000\n",
      "  MOMENTUM: 0.9\n",
      "  OPTIM: Adam\n",
      "  WEIGHT_DECAY: 0.0001\n",
      "TEST:\n",
      "  BATCH_SIZE: 10\n",
      "  CONFIDENCE_THRESHOLD: 0.01\n",
      "  MAX_PER_CLASS: -1\n",
      "  MAX_PER_IMAGE: 100\n",
      "  NMS_THRESHOLD: 0.45\n"
     ]
    }
   ],
   "source": [
    "config_file = \"configs/cfg_rdd2020.yaml\"\n",
    "ckpt = None # The path to the checkpoint for test, default is the latest checkpoint\n",
    "cfg.merge_from_file(config_file)\n",
    "cfg.freeze()\n",
    "\n",
    "logger = setup_logger(\"SSD\", cfg.OUTPUT_DIR)\n",
    "logger.info(\"Loaded configuration file {}\".format(config_file))\n",
    "with open(config_file, \"r\") as cf:\n",
    "    config_str = \"\\n\" + cf.read()\n",
    "    logger.info(config_str)\n",
    "logger.info(\"Running with config:\\n{}\".format(cfg))\n"
   ]
  },
  {
   "cell_type": "code",
   "execution_count": 4,
   "metadata": {},
   "outputs": [
    {
     "name": "stdout",
     "output_type": "stream",
     "text": [
      "Detector initialized. Total Number of params:  22.91M\n",
      "Backbone number of parameters: 22.39M\n",
      "SSD Head number of parameters: 518.7K\n",
      "2021-04-07 17:48:57,993 SSD.inference INFO: Loading checkpoint from outputs/resnet_unfrozen/model_final.pth\n",
      "Dataset loaded. Subset: val, number of images: 3659\n",
      "2021-04-07 17:48:58,190 SSD.inference INFO: Evaluating rdd2020_val dataset(3659 images):\n"
     ]
    },
    {
     "name": "stderr",
     "output_type": "stream",
     "text": [
      "100%|██████████| 366/366 [00:18<00:00, 19.61it/s]\n"
     ]
    },
    {
     "name": "stdout",
     "output_type": "stream",
     "text": [
      "2021-04-07 17:49:17,841 SSD.inference INFO: mAP: 0.1563\n",
      "D00             : 0.0974\n",
      "D10             : 0.1013\n",
      "D20             : 0.2911\n",
      "D40             : 0.1355\n",
      "\n"
     ]
    }
   ],
   "source": [
    "evaluation(cfg, ckpt=ckpt)"
   ]
  },
  {
   "cell_type": "code",
   "execution_count": null,
   "metadata": {},
   "outputs": [],
   "source": []
  }
 ],
 "metadata": {
  "kernelspec": {
   "display_name": "Python 3",
   "language": "python",
   "name": "python3"
  },
  "language_info": {
   "codemirror_mode": {
    "name": "ipython",
    "version": 3
   },
   "file_extension": ".py",
   "mimetype": "text/x-python",
   "name": "python",
   "nbconvert_exporter": "python",
   "pygments_lexer": "ipython3",
   "version": "3.8.5"
  }
 },
 "nbformat": 4,
 "nbformat_minor": 4
}
